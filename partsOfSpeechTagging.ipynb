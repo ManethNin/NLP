{
 "cells": [
  {
   "cell_type": "markdown",
   "metadata": {},
   "source": [
    "This section we learn about category of each word"
   ]
  },
  {
   "cell_type": "code",
   "execution_count": 1,
   "metadata": {},
   "outputs": [],
   "source": [
    "paragraph = \"God has given us the most precious gift; it is life. It is up to us how to use it. It depends on us, or it depends on our behavior. Therefore, this is a very relevant topic to be discussed in schools, universities, workplaces or public places. We are of course worried that our young people are now wasting their lives and time-consuming reckless behavior. Every day, we should thank God for giving us this life and another day to achieve our goals. No one is like you and will never be there, so cherish your uniqueness. What surprises me is that I often hear people blaming God for what they don’t have and cursing their liveliness, but they do not know that their lives are valuable if they work hard to make it worthwhile. The value of life comes from such thinking. Only through the love of family and friends can life become better. We also make our lives more beautiful and fulfilling by completing our responsibilities in our family, work, community and the whole world.\""
   ]
  },
  {
   "cell_type": "code",
   "execution_count": null,
   "metadata": {},
   "outputs": [],
   "source": [
    "from nltk.stem import WordNetLemmatizer"
   ]
  },
  {
   "cell_type": "code",
   "execution_count": 2,
   "metadata": {},
   "outputs": [],
   "source": [
    "import nltk\n"
   ]
  },
  {
   "cell_type": "code",
   "execution_count": null,
   "metadata": {},
   "outputs": [],
   "source": [
    "sentences = nltk.sent_tokenize(paragraph)  #Divide into sentences"
   ]
  },
  {
   "cell_type": "code",
   "execution_count": 5,
   "metadata": {},
   "outputs": [
    {
     "name": "stderr",
     "output_type": "stream",
     "text": [
      "[nltk_data] Downloading package averaged_perceptron_tagger_eng to\n",
      "[nltk_data]     /home/maneth/nltk_data...\n",
      "[nltk_data]   Unzipping taggers/averaged_perceptron_tagger_eng.zip.\n"
     ]
    },
    {
     "data": {
      "text/plain": [
       "True"
      ]
     },
     "execution_count": 5,
     "metadata": {},
     "output_type": "execute_result"
    }
   ],
   "source": [
    "nltk.download('averaged_perceptron_tagger_eng')"
   ]
  },
  {
   "cell_type": "code",
   "execution_count": null,
   "metadata": {},
   "outputs": [
    {
     "name": "stdout",
     "output_type": "stream",
     "text": [
      "[('God', 'NNP'), ('has', 'VBZ'), ('given', 'VBN'), ('us', 'PRP'), ('the', 'DT'), ('most', 'RBS'), ('precious', 'JJ'), ('gift', 'NN'), (';', ':'), ('it', 'PRP'), ('is', 'VBZ'), ('life', 'NN'), ('.', '.')]\n",
      "[('It', 'PRP'), ('is', 'VBZ'), ('up', 'IN'), ('to', 'TO'), ('us', 'PRP'), ('how', 'WRB'), ('to', 'TO'), ('use', 'VB'), ('it', 'PRP'), ('.', '.')]\n",
      "[('It', 'PRP'), ('depends', 'VBZ'), ('on', 'IN'), ('us', 'PRP'), (',', ','), ('or', 'CC'), ('it', 'PRP'), ('depends', 'VBZ'), ('on', 'IN'), ('our', 'PRP$'), ('behavior', 'NN'), ('.', '.')]\n",
      "[('Therefore', 'RB'), (',', ','), ('this', 'DT'), ('is', 'VBZ'), ('a', 'DT'), ('very', 'RB'), ('relevant', 'JJ'), ('topic', 'NN'), ('to', 'TO'), ('be', 'VB'), ('discussed', 'VBN'), ('in', 'IN'), ('schools', 'NNS'), (',', ','), ('universities', 'NNS'), (',', ','), ('workplaces', 'NNS'), ('or', 'CC'), ('public', 'JJ'), ('places', 'NNS'), ('.', '.')]\n",
      "[('We', 'PRP'), ('are', 'VBP'), ('of', 'IN'), ('course', 'NN'), ('worried', 'VBD'), ('that', 'IN'), ('our', 'PRP$'), ('young', 'JJ'), ('people', 'NNS'), ('are', 'VBP'), ('now', 'RB'), ('wasting', 'VBG'), ('their', 'PRP$'), ('lives', 'NNS'), ('and', 'CC'), ('time-consuming', 'JJ'), ('reckless', 'JJ'), ('behavior', 'NN'), ('.', '.')]\n",
      "[('Every', 'DT'), ('day', 'NN'), (',', ','), ('we', 'PRP'), ('should', 'MD'), ('thank', 'VB'), ('God', 'NNP'), ('for', 'IN'), ('giving', 'VBG'), ('us', 'PRP'), ('this', 'DT'), ('life', 'NN'), ('and', 'CC'), ('another', 'DT'), ('day', 'NN'), ('to', 'TO'), ('achieve', 'VB'), ('our', 'PRP$'), ('goals', 'NNS'), ('.', '.')]\n",
      "[('No', 'DT'), ('one', 'NN'), ('is', 'VBZ'), ('like', 'IN'), ('you', 'PRP'), ('and', 'CC'), ('will', 'MD'), ('never', 'RB'), ('be', 'VB'), ('there', 'RB'), (',', ','), ('so', 'IN'), ('cherish', 'JJ'), ('your', 'PRP$'), ('uniqueness', 'NN'), ('.', '.')]\n",
      "[('What', 'WP'), ('surprises', 'VBZ'), ('me', 'PRP'), ('is', 'VBZ'), ('that', 'IN'), ('I', 'PRP'), ('often', 'RB'), ('hear', 'VBP'), ('people', 'NNS'), ('blaming', 'VBG'), ('God', 'NNP'), ('for', 'IN'), ('what', 'WP'), ('they', 'PRP'), ('don', 'VBP'), ('’', 'JJ'), ('t', 'NNS'), ('have', 'VBP'), ('and', 'CC'), ('cursing', 'VBG'), ('their', 'PRP$'), ('liveliness', 'NN'), (',', ','), ('but', 'CC'), ('they', 'PRP'), ('do', 'VBP'), ('not', 'RB'), ('know', 'VB'), ('that', 'IN'), ('their', 'PRP$'), ('lives', 'NNS'), ('are', 'VBP'), ('valuable', 'JJ'), ('if', 'IN'), ('they', 'PRP'), ('work', 'VBP'), ('hard', 'JJ'), ('to', 'TO'), ('make', 'VB'), ('it', 'PRP'), ('worthwhile', 'JJ'), ('.', '.')]\n",
      "[('The', 'DT'), ('value', 'NN'), ('of', 'IN'), ('life', 'NN'), ('comes', 'VBZ'), ('from', 'IN'), ('such', 'JJ'), ('thinking', 'NN'), ('.', '.')]\n",
      "[('Only', 'RB'), ('through', 'IN'), ('the', 'DT'), ('love', 'NN'), ('of', 'IN'), ('family', 'NN'), ('and', 'CC'), ('friends', 'NNS'), ('can', 'MD'), ('life', 'NN'), ('become', 'VB'), ('better', 'RBR'), ('.', '.')]\n",
      "[('We', 'PRP'), ('also', 'RB'), ('make', 'VBP'), ('our', 'PRP$'), ('lives', 'NNS'), ('more', 'RBR'), ('beautiful', 'JJ'), ('and', 'CC'), ('fulfilling', 'JJ'), ('by', 'IN'), ('completing', 'VBG'), ('our', 'PRP$'), ('responsibilities', 'NNS'), ('in', 'IN'), ('our', 'PRP$'), ('family', 'NN'), (',', ','), ('work', 'NN'), (',', ','), ('community', 'NN'), ('and', 'CC'), ('the', 'DT'), ('whole', 'JJ'), ('world', 'NN'), ('.', '.')]\n"
     ]
    }
   ],
   "source": [
    "for i in range(len(sentences)):\n",
    "    words = nltk.word_tokenize(sentences[i]) #Each sentence divide into words\n",
    "    pos_tags = nltk.pos_tag(words)\n",
    "    print(pos_tags)"
   ]
  },
  {
   "cell_type": "markdown",
   "metadata": {},
   "source": [
    "Be careful when use this pos_tag. It can gives letter by letter categoreis if we dont use it properly"
   ]
  },
  {
   "cell_type": "code",
   "execution_count": 8,
   "metadata": {},
   "outputs": [],
   "source": [
    "s2 = \"My name is Maneth and I live in Srilanka\""
   ]
  },
  {
   "cell_type": "code",
   "execution_count": 10,
   "metadata": {},
   "outputs": [
    {
     "name": "stdout",
     "output_type": "stream",
     "text": [
      "[('My', 'PRP$'), ('name', 'NN'), ('is', 'VBZ'), ('Maneth', 'NNP'), ('and', 'CC'), ('I', 'PRP'), ('live', 'VBP'), ('in', 'IN'), ('Srilanka', 'NNP')]\n"
     ]
    }
   ],
   "source": [
    "tags = nltk.pos_tag(s2.split())\n",
    "print(tags)"
   ]
  },
  {
   "cell_type": "code",
   "execution_count": null,
   "metadata": {},
   "outputs": [],
   "source": [
    " "
   ]
  },
  {
   "cell_type": "code",
   "execution_count": null,
   "metadata": {},
   "outputs": [],
   "source": []
  }
 ],
 "metadata": {
  "kernelspec": {
   "display_name": "nlp",
   "language": "python",
   "name": "python3"
  },
  "language_info": {
   "codemirror_mode": {
    "name": "ipython",
    "version": 3
   },
   "file_extension": ".py",
   "mimetype": "text/x-python",
   "name": "python",
   "nbconvert_exporter": "python",
   "pygments_lexer": "ipython3",
   "version": "3.12.3"
  }
 },
 "nbformat": 4,
 "nbformat_minor": 2
}
