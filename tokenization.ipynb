{
 "cells": [
  {
   "cell_type": "code",
   "execution_count": 42,
   "metadata": {},
   "outputs": [
    {
     "name": "stdout",
     "output_type": "stream",
     "text": [
      "hi\n"
     ]
    }
   ],
   "source": [
    "print(\"hi\")"
   ]
  },
  {
   "cell_type": "code",
   "execution_count": 49,
   "metadata": {},
   "outputs": [
    {
     "name": "stderr",
     "output_type": "stream",
     "text": [
      "[nltk_data] Downloading package punkt_tab to /home/maneth/nltk_data...\n",
      "[nltk_data]   Unzipping tokenizers/punkt_tab.zip.\n"
     ]
    },
    {
     "data": {
      "text/plain": [
       "True"
      ]
     },
     "execution_count": 49,
     "metadata": {},
     "output_type": "execute_result"
    }
   ],
   "source": [
    "import nltk\n",
    "nltk.download('punkt_tab')\n",
    "# nltk.data.path.append('/home/maneth/nltk_data')\n"
   ]
  },
  {
   "cell_type": "code",
   "execution_count": 54,
   "metadata": {},
   "outputs": [],
   "source": [
    "from nltk.tokenize import sent_tokenize, word_tokenize\n"
   ]
  },
  {
   "cell_type": "code",
   "execution_count": 51,
   "metadata": {},
   "outputs": [],
   "source": [
    "corpus = \"\"\"To complete your project on suggesting domain names based on user input, you’ll need to gain a solid understanding of foundational concepts, tools, and technologies. Below is a comprehensive plan, detailing prerequisites, a learning path, and the steps to execute your project with cutting-edge technologies.\"\"\""
   ]
  },
  {
   "cell_type": "markdown",
   "metadata": {},
   "source": [
    "Sentence Seperate"
   ]
  },
  {
   "cell_type": "code",
   "execution_count": 53,
   "metadata": {},
   "outputs": [
    {
     "data": {
      "text/plain": [
       "['To complete your project on suggesting domain names based on user input, you’ll need to gain a solid understanding of foundational concepts, tools, and technologies.',\n",
       " 'Below is a comprehensive plan, detailing prerequisites, a learning path, and the steps to execute your project with cutting-edge technologies.']"
      ]
     },
     "execution_count": 53,
     "metadata": {},
     "output_type": "execute_result"
    }
   ],
   "source": [
    "sent_tokenize(corpus)\n"
   ]
  },
  {
   "cell_type": "markdown",
   "metadata": {},
   "source": [
    "Words Sepereate"
   ]
  },
  {
   "cell_type": "code",
   "execution_count": 55,
   "metadata": {},
   "outputs": [
    {
     "data": {
      "text/plain": [
       "['To',\n",
       " 'complete',\n",
       " 'your',\n",
       " 'project',\n",
       " 'on',\n",
       " 'suggesting',\n",
       " 'domain',\n",
       " 'names',\n",
       " 'based',\n",
       " 'on',\n",
       " 'user',\n",
       " 'input',\n",
       " ',',\n",
       " 'you',\n",
       " '’',\n",
       " 'll',\n",
       " 'need',\n",
       " 'to',\n",
       " 'gain',\n",
       " 'a',\n",
       " 'solid',\n",
       " 'understanding',\n",
       " 'of',\n",
       " 'foundational',\n",
       " 'concepts',\n",
       " ',',\n",
       " 'tools',\n",
       " ',',\n",
       " 'and',\n",
       " 'technologies',\n",
       " '.',\n",
       " 'Below',\n",
       " 'is',\n",
       " 'a',\n",
       " 'comprehensive',\n",
       " 'plan',\n",
       " ',',\n",
       " 'detailing',\n",
       " 'prerequisites',\n",
       " ',',\n",
       " 'a',\n",
       " 'learning',\n",
       " 'path',\n",
       " ',',\n",
       " 'and',\n",
       " 'the',\n",
       " 'steps',\n",
       " 'to',\n",
       " 'execute',\n",
       " 'your',\n",
       " 'project',\n",
       " 'with',\n",
       " 'cutting-edge',\n",
       " 'technologies',\n",
       " '.']"
      ]
     },
     "execution_count": 55,
     "metadata": {},
     "output_type": "execute_result"
    }
   ],
   "source": [
    "word_tokenize(corpus)"
   ]
  },
  {
   "cell_type": "code",
   "execution_count": null,
   "metadata": {},
   "outputs": [],
   "source": []
  }
 ],
 "metadata": {
  "kernelspec": {
   "display_name": "nlp",
   "language": "python",
   "name": "python3"
  },
  "language_info": {
   "codemirror_mode": {
    "name": "ipython",
    "version": 3
   },
   "file_extension": ".py",
   "mimetype": "text/x-python",
   "name": "python",
   "nbconvert_exporter": "python",
   "pygments_lexer": "ipython3",
   "version": "3.12.3"
  }
 },
 "nbformat": 4,
 "nbformat_minor": 2
}
